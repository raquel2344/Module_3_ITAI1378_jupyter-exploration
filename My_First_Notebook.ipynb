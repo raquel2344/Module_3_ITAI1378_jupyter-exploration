{
 "cells": [
  {
   "cell_type": "markdown",
   "id": "bb064212-6989-438c-aa28-7a1d0ca80960",
   "metadata": {},
   "source": [
    "# In a Jupyter Notebook, 'code cells' are used to write and execute programming code, while 'markdown cells' are used to add formatted text, explanations, and documentation."
   ]
  },
  {
   "cell_type": "code",
   "execution_count": 3,
   "id": "32865f67-e4fc-4780-acf3-1d24e2371e3b",
   "metadata": {},
   "outputs": [
    {
     "name": "stdout",
     "output_type": "stream",
     "text": [
      "Hello, world! My name is Monica, but a lot of times I go by 'Raquel'.\n"
     ]
    }
   ],
   "source": [
    "print(\"Hello, world! My name is Monica, but a lot of times I go by 'Raquel'.\")"
   ]
  },
  {
   "cell_type": "markdown",
   "id": "e266fde5-4c68-4fe9-99cd-24b20143a787",
   "metadata": {},
   "source": [
    "This is my first markdown cell in Jupyter."
   ]
  }
 ],
 "metadata": {
  "kernelspec": {
   "display_name": "Python 3 (ipykernel)",
   "language": "python",
   "name": "python3"
  },
  "language_info": {
   "codemirror_mode": {
    "name": "ipython",
    "version": 3
   },
   "file_extension": ".py",
   "mimetype": "text/x-python",
   "name": "python",
   "nbconvert_exporter": "python",
   "pygments_lexer": "ipython3",
   "version": "3.11.7"
  }
 },
 "nbformat": 4,
 "nbformat_minor": 5
}
